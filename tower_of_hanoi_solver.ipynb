{
  "nbformat": 4,
  "nbformat_minor": 0,
  "metadata": {
    "colab": {
      "name": "tower_of_hanoi_solver.ipynb",
      "provenance": [],
      "authorship_tag": "ABX9TyM6nOpNaW7bJPtEzshrZbA7",
      "include_colab_link": true
    },
    "kernelspec": {
      "name": "python3",
      "display_name": "Python 3"
    }
  },
  "cells": [
    {
      "cell_type": "markdown",
      "metadata": {
        "id": "view-in-github",
        "colab_type": "text"
      },
      "source": [
        "<a href=\"https://colab.research.google.com/github/mohi1997/probem_solver_with_python/blob/main/tower_of_hanoi_solver.ipynb\" target=\"_parent\"><img src=\"https://colab.research.google.com/assets/colab-badge.svg\" alt=\"Open In Colab\"/></a>"
      ]
    },
    {
      "cell_type": "code",
      "metadata": {
        "id": "y5nlvJ1iUWNA"
      },
      "source": [
        "def move(f,t):\n",
        "  print(\"moved block from {} to {}\".format(f,t))\n"
      ],
      "execution_count": 16,
      "outputs": []
    },
    {
      "cell_type": "code",
      "metadata": {
        "id": "nY4SniFZL41U",
        "outputId": "539e35ac-a108-4928-8b8b-5b6ebbe00730",
        "colab": {
          "base_uri": "https://localhost:8080/",
          "height": 34
        }
      },
      "source": [
        "move(\"a\",\"c\")"
      ],
      "execution_count": 17,
      "outputs": [
        {
          "output_type": "stream",
          "text": [
            "moved block from a to c\n"
          ],
          "name": "stdout"
        }
      ]
    },
    {
      "cell_type": "code",
      "metadata": {
        "id": "gvKiBmAjp3nO"
      },
      "source": [
        "# n is the number of blocks\n",
        "# f is the initial positioon\n",
        "# h is the helper piller\n",
        "# t is the target position\n",
        "def solve(n,f,h,t):\n",
        "  if n == 0:\n",
        "    pass\n",
        "  else:\n",
        "    solve(n-1,f,t,h)\n",
        "    move(f,t)\n",
        "    solve(n-1,h,f,t)"
      ],
      "execution_count": 18,
      "outputs": []
    },
    {
      "cell_type": "code",
      "metadata": {
        "id": "IH1vVk6TsN9r",
        "outputId": "b0a8e274-d5fc-4d40-e2b7-d3077e83395a",
        "colab": {
          "base_uri": "https://localhost:8080/",
          "height": 272
        }
      },
      "source": [
        "solve(4,\"A\",\"B\",\"C\")"
      ],
      "execution_count": 19,
      "outputs": [
        {
          "output_type": "stream",
          "text": [
            "moved block from A to B\n",
            "moved block from A to C\n",
            "moved block from B to C\n",
            "moved block from A to B\n",
            "moved block from C to A\n",
            "moved block from C to B\n",
            "moved block from A to B\n",
            "moved block from A to C\n",
            "moved block from B to C\n",
            "moved block from B to A\n",
            "moved block from C to A\n",
            "moved block from B to C\n",
            "moved block from A to B\n",
            "moved block from A to C\n",
            "moved block from B to C\n"
          ],
          "name": "stdout"
        }
      ]
    },
    {
      "cell_type": "code",
      "metadata": {
        "id": "3SnaICT9sYcg"
      },
      "source": [
        ""
      ],
      "execution_count": null,
      "outputs": []
    }
  ]
}